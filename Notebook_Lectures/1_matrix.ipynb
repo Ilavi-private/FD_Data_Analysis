{
  "cells": [
    {
      "cell_type": "markdown",
      "metadata": {
        "id": "yZxHAnOL5KwR"
      },
      "source": [
        "# Матрицы и NumPy\n"
      ]
    },
    {
      "cell_type": "markdown",
      "metadata": {
        "id": "m0VMOo1K5KwW"
      },
      "source": [
        "## Библиотека NumPy ##"
      ]
    },
    {
      "cell_type": "code",
      "execution_count": null,
      "metadata": {
        "id": "GHLt4Yyi5KwW"
      },
      "outputs": [],
      "source": [
        "import numpy as np"
      ]
    },
    {
      "cell_type": "markdown",
      "metadata": {
        "id": "Ju0dDqBW5KwY"
      },
      "source": [
        "Матрица размером 1 на 3 (или вектор-строка)"
      ]
    },
    {
      "cell_type": "code",
      "execution_count": null,
      "metadata": {
        "id": "Y056MLnB5KwY",
        "outputId": "24c8ef88-3aa4-419f-bdf6-e2ee612a80c7"
      },
      "outputs": [
        {
          "name": "stdout",
          "output_type": "stream",
          "text": [
            "[1 2 3]\n"
          ]
        }
      ],
      "source": [
        "a = np.array([1,2,3])\n",
        "print(a)"
      ]
    },
    {
      "cell_type": "markdown",
      "metadata": {
        "id": "x2sNSTV15KwZ"
      },
      "source": [
        "Матрица размером 2 на 3"
      ]
    },
    {
      "cell_type": "code",
      "execution_count": null,
      "metadata": {
        "id": "eX10SCkK5Kwa",
        "outputId": "9ce33e02-2001-459f-f06b-d8d95628ca16"
      },
      "outputs": [
        {
          "name": "stdout",
          "output_type": "stream",
          "text": [
            "[[1 2 3]\n",
            " [4 5 6]]\n"
          ]
        }
      ],
      "source": [
        "b = np.array([[1,2,3],\n",
        "              [4,5,6]])\n",
        "print(b)"
      ]
    },
    {
      "cell_type": "markdown",
      "metadata": {
        "id": "qlPZpsmQ5Kwa"
      },
      "source": [
        "Матрица размером 3 на 1 (или вектор-столбец)"
      ]
    },
    {
      "cell_type": "code",
      "execution_count": null,
      "metadata": {
        "id": "LlhTsh-25Kwb",
        "outputId": "31e7d32f-ba5a-48d5-dc50-eea557a43146"
      },
      "outputs": [
        {
          "name": "stdout",
          "output_type": "stream",
          "text": [
            "[[7]\n",
            " [8]\n",
            " [9]]\n"
          ]
        }
      ],
      "source": [
        "c = np.array([[7],\n",
        "              [8],\n",
        "              [9]])\n",
        "\n",
        "print(c)"
      ]
    },
    {
      "cell_type": "markdown",
      "metadata": {
        "id": "ep12vfaC5Kwb"
      },
      "source": [
        "Размеры матриц"
      ]
    },
    {
      "cell_type": "code",
      "execution_count": null,
      "metadata": {
        "id": "OmB4wkuu5Kwc",
        "outputId": "a2b1a7a5-33bc-4088-84ae-6ea1937693b1"
      },
      "outputs": [
        {
          "name": "stdout",
          "output_type": "stream",
          "text": [
            "(3,)\n",
            "(2, 3)\n",
            "(3, 1)\n"
          ]
        }
      ],
      "source": [
        "print(a.shape)\n",
        "print(b.shape)\n",
        "print(c.shape)"
      ]
    },
    {
      "cell_type": "markdown",
      "metadata": {
        "id": "Z1HHbor65Kwc"
      },
      "source": [
        "Матрицы из базовых типов"
      ]
    },
    {
      "cell_type": "code",
      "execution_count": null,
      "metadata": {
        "id": "pvGms61j5Kwc",
        "outputId": "60872fe2-864a-42e2-c89e-2c4658c99431"
      },
      "outputs": [
        {
          "name": "stdout",
          "output_type": "stream",
          "text": [
            "my_list =  [1, 2, 3, 4, 5]\n",
            "my_tuple =  (6, 7, 8, 9, 10)\n",
            "my_range =  range(100, 110, 2)\n",
            "d = \n",
            "[[  1   2   3   4   5]\n",
            " [  6   7   8   9  10]\n",
            " [100 102 104 106 108]]\n"
          ]
        }
      ],
      "source": [
        "my_list = [1,2,3,4,5]\n",
        "print('my_list = ', my_list)\n",
        "my_tuple = (6,7,8,9,10)\n",
        "print('my_tuple = ', my_tuple)\n",
        "my_range = range(100,110,2)\n",
        "print('my_range = ', my_range)\n",
        "d = np.array([my_list, my_tuple, my_range])\n",
        "print('d = ', d, sep='\\n')"
      ]
    },
    {
      "cell_type": "markdown",
      "metadata": {
        "id": "OrJ9qkDX5Kwd"
      },
      "source": [
        "Тип матрицы"
      ]
    },
    {
      "cell_type": "code",
      "execution_count": null,
      "metadata": {
        "id": "NpnHcEdL5Kwd",
        "outputId": "48ec9f40-0bb5-47fa-f56e-e2e6b70d5cca"
      },
      "outputs": [
        {
          "name": "stdout",
          "output_type": "stream",
          "text": [
            "type (a) =  int32\n",
            "a =  [1 2 3]\n",
            "type (b) =  float64\n",
            "b =  [1.  2.  1.5]\n",
            "type (c) =  <U6\n",
            "c =  ['привет' ',' 'мир!']\n"
          ]
        }
      ],
      "source": [
        "a = np.array([1, 2, 3])\n",
        "print('type (a) = ', a.dtype)\n",
        "print('a = ', a)\n",
        "\n",
        "b = np.array([1, 2, 3/2])\n",
        "print('type (b) = ', b.dtype)\n",
        "print('b = ', b)\n",
        "\n",
        "c = np.array(['привет',',', 'мир!'])\n",
        "print('type (c) = ', c.dtype)\n",
        "print('c = ', c)"
      ]
    },
    {
      "cell_type": "markdown",
      "metadata": {
        "id": "mFu99fA75Kwd"
      },
      "source": [
        "Нулевая матрица"
      ]
    },
    {
      "cell_type": "code",
      "execution_count": null,
      "metadata": {
        "id": "IKrRUxk55Kwd",
        "outputId": "51e7230c-3341-49a3-ece1-49d35c205207"
      },
      "outputs": [
        {
          "name": "stdout",
          "output_type": "stream",
          "text": [
            "[[0. 0. 0.]\n",
            " [0. 0. 0.]]\n"
          ]
        }
      ],
      "source": [
        "print(np.zeros((2,3)))"
      ]
    },
    {
      "cell_type": "markdown",
      "metadata": {
        "id": "7Brn46_Y5Kwe"
      },
      "source": [
        "Матрица из единиц"
      ]
    },
    {
      "cell_type": "code",
      "execution_count": null,
      "metadata": {
        "id": "8z8eqsmp5Kwe",
        "outputId": "a793cf0b-59d4-41e3-aa8e-088415fa554a"
      },
      "outputs": [
        {
          "name": "stdout",
          "output_type": "stream",
          "text": [
            "[[1. 1. 1.]\n",
            " [1. 1. 1.]\n",
            " [1. 1. 1.]\n",
            " [1. 1. 1.]]\n"
          ]
        }
      ],
      "source": [
        "print(np.ones((4,3)))"
      ]
    },
    {
      "cell_type": "markdown",
      "metadata": {
        "id": "aK3CX1SL5Kwe"
      },
      "source": [
        "Единичная матрица"
      ]
    },
    {
      "cell_type": "code",
      "execution_count": null,
      "metadata": {
        "id": "5wQ5TRmM5Kwe",
        "outputId": "91def00b-2707-4e10-cc90-74ea25fbf3fe"
      },
      "outputs": [
        {
          "name": "stdout",
          "output_type": "stream",
          "text": [
            "[[1. 0. 0. 0.]\n",
            " [0. 1. 0. 0.]\n",
            " [0. 0. 1. 0.]\n",
            " [0. 0. 0. 1.]]\n"
          ]
        }
      ],
      "source": [
        "print(np.eye(4))"
      ]
    },
    {
      "cell_type": "markdown",
      "metadata": {
        "id": "dhJuLqjK5Kwe"
      },
      "source": [
        "Матрица из range"
      ]
    },
    {
      "cell_type": "code",
      "execution_count": null,
      "metadata": {
        "id": "DtASZP4r5Kwf",
        "outputId": "93a6a12e-39a5-4407-9941-a2697e6d16bf"
      },
      "outputs": [
        {
          "name": "stdout",
          "output_type": "stream",
          "text": [
            "[ 0  1  2  3  4  5  6  7  8  9 10 11]\n",
            "[100 102 104 106 108 110 112 114 116 118 120 122]\n"
          ]
        }
      ],
      "source": [
        "print(np.arange(12))\n",
        "print(np.arange(100,124,2))"
      ]
    },
    {
      "cell_type": "markdown",
      "metadata": {
        "id": "9RK-emIx5Kwf"
      },
      "source": [
        "Изменение размера"
      ]
    },
    {
      "cell_type": "code",
      "execution_count": null,
      "metadata": {
        "id": "jw92xORv5Kwf",
        "outputId": "fc43464c-3a91-40bb-ef6b-a59164abb3a0"
      },
      "outputs": [
        {
          "name": "stdout",
          "output_type": "stream",
          "text": [
            "a =  [100 102 104 106 108 110 112 114 116 118 120 122]\n",
            "b = \n",
            "[[100 102 104]\n",
            " [106 108 110]\n",
            " [112 114 116]\n",
            " [118 120 122]]\n"
          ]
        }
      ],
      "source": [
        "a = np.arange(100,124,2)\n",
        "b = a.reshape(4,3)\n",
        "print('a = ', a)\n",
        "print('b = ', b, sep='\\n')"
      ]
    },
    {
      "cell_type": "code",
      "execution_count": null,
      "metadata": {
        "id": "WLnwio355Kwf",
        "outputId": "882c9487-61ca-4d78-eb2b-2996bf38ade4"
      },
      "outputs": [
        {
          "name": "stdout",
          "output_type": "stream",
          "text": [
            "[[ 0  1  2  3  4  5]\n",
            " [ 6  7  8  9 10 11]\n",
            " [12 13 14 15 16 17]\n",
            " [18 19 20 21 22 23]\n",
            " [24 25 26 27 28 29]]\n"
          ]
        }
      ],
      "source": [
        "n = 5\n",
        "m = 6\n",
        "a = np.arange(n*m).reshape(n,m)\n",
        "print(a)"
      ]
    },
    {
      "cell_type": "markdown",
      "metadata": {
        "id": "Yt11Rpsh5Kwg"
      },
      "source": [
        "Индексация и срезы"
      ]
    },
    {
      "cell_type": "code",
      "execution_count": null,
      "metadata": {
        "id": "IcC26Bt85Kwg",
        "outputId": "a57dcd4b-7e4b-4716-8c28-707c58300e5f"
      },
      "outputs": [
        {
          "name": "stdout",
          "output_type": "stream",
          "text": [
            "8 21 28\n"
          ]
        }
      ],
      "source": [
        "print(a[1,2], a[3,3], a[-1,4])"
      ]
    },
    {
      "cell_type": "code",
      "execution_count": null,
      "metadata": {
        "id": "pbZyLm2W5Kwg",
        "outputId": "2604942b-1a48-4498-a928-e417d89c94ac"
      },
      "outputs": [
        {
          "name": "stdout",
          "output_type": "stream",
          "text": [
            "[ 6  7  8  9 10 11]\n"
          ]
        }
      ],
      "source": [
        "print(a[1])"
      ]
    },
    {
      "cell_type": "code",
      "execution_count": null,
      "metadata": {
        "id": "jhITjbUX5Kwg",
        "outputId": "0f3ed8a5-c0fc-4c0e-b7fa-19d790291746"
      },
      "outputs": [
        {
          "name": "stdout",
          "output_type": "stream",
          "text": [
            "[[ 0  1  2  3  4  5]\n",
            " [ 6  7  8  9 10 11]]\n"
          ]
        }
      ],
      "source": [
        "print(a[:2])"
      ]
    },
    {
      "cell_type": "code",
      "execution_count": null,
      "metadata": {
        "id": "3ma7l0Pb5Kwg",
        "outputId": "6e63061e-27dc-4918-845a-f6281c1c0da0"
      },
      "outputs": [
        {
          "name": "stdout",
          "output_type": "stream",
          "text": [
            "[[ 6  7  8  9 10 11]\n",
            " [18 19 20 21 22 23]]\n"
          ]
        }
      ],
      "source": [
        "print(a[1::2])"
      ]
    },
    {
      "cell_type": "code",
      "execution_count": null,
      "metadata": {
        "id": "o6bjVX8a5Kwh",
        "outputId": "26b5691a-7f18-4a79-86d8-7e897ef567a1"
      },
      "outputs": [
        {
          "name": "stdout",
          "output_type": "stream",
          "text": [
            "[ 1  7 13 19 25]\n"
          ]
        }
      ],
      "source": [
        "print(a[:,1])"
      ]
    },
    {
      "cell_type": "code",
      "execution_count": null,
      "metadata": {
        "id": "q5w_AxZy5Kwh",
        "outputId": "fc1f4df1-c7ad-481c-bfe6-6ecc50979fbc"
      },
      "outputs": [
        {
          "name": "stdout",
          "output_type": "stream",
          "text": [
            "[[ 8  9 10]\n",
            " [14 15 16]]\n"
          ]
        }
      ],
      "source": [
        "print(a[1:3,2:5])"
      ]
    },
    {
      "cell_type": "markdown",
      "metadata": {
        "id": "-63OGmnC5Kwh"
      },
      "source": [
        "Транспонирование матрицы"
      ]
    },
    {
      "cell_type": "code",
      "execution_count": null,
      "metadata": {
        "id": "pCpLVY3C5Kwh",
        "outputId": "115f3f79-c319-4614-a168-c72d189d9fd4"
      },
      "outputs": [
        {
          "name": "stdout",
          "output_type": "stream",
          "text": [
            "a = \n",
            "[[ 0  1  2  3  4  5]\n",
            " [ 6  7  8  9 10 11]\n",
            " [12 13 14 15 16 17]\n",
            " [18 19 20 21 22 23]\n",
            " [24 25 26 27 28 29]]\n",
            "\n",
            "(5, 6) \n",
            "\n",
            "b = \n",
            "[[ 0  6 12 18 24]\n",
            " [ 1  7 13 19 25]\n",
            " [ 2  8 14 20 26]\n",
            " [ 3  9 15 21 27]\n",
            " [ 4 10 16 22 28]\n",
            " [ 5 11 17 23 29]]\n",
            "\n",
            "(6, 5)\n"
          ]
        }
      ],
      "source": [
        "print('a = ', a, '', sep='\\n')\n",
        "print(a.shape, '\\n')\n",
        "b=a.T\n",
        "print('b = ', b, '', sep='\\n')\n",
        "print(b.shape)"
      ]
    },
    {
      "cell_type": "markdown",
      "metadata": {
        "id": "QVbT_xqI5Kwh"
      },
      "source": [
        "Склейка матриц"
      ]
    },
    {
      "cell_type": "code",
      "execution_count": null,
      "metadata": {
        "id": "xphdraGd5Kwi",
        "outputId": "e199b873-0d2f-48b8-80c3-f55fb7b6c9a3"
      },
      "outputs": [
        {
          "name": "stdout",
          "output_type": "stream",
          "text": [
            "a = \n",
            "[[0 1]\n",
            " [2 3]\n",
            " [4 5]]\n",
            "\n",
            "b = \n",
            "[[100 101]\n",
            " [102 103]\n",
            " [104 105]]\n",
            "\n",
            "c = \n",
            "[[  0   1 100 101]\n",
            " [  2   3 102 103]\n",
            " [  4   5 104 105]]\n",
            "\n",
            "d = \n",
            "[[  0   1]\n",
            " [  2   3]\n",
            " [  4   5]\n",
            " [100 101]\n",
            " [102 103]\n",
            " [104 105]]\n",
            "\n",
            "e = \n",
            "[[0 1 0 1 0 1 0 1 0 1]\n",
            " [2 3 2 3 2 3 2 3 2 3]\n",
            " [4 5 4 5 4 5 4 5 4 5]]\n"
          ]
        }
      ],
      "source": [
        "n=3\n",
        "m=2\n",
        "a = np.arange(n*m).reshape(n,m)\n",
        "b = np.arange(100, 100+n*m).reshape(n,m)\n",
        "print('a = ', a, '', sep='\\n')\n",
        "print('b = ', b, '', sep='\\n')\n",
        "\n",
        "c = np.hstack([a,b])\n",
        "print('c = ', c, '', sep='\\n')\n",
        "\n",
        "d = np.vstack([a,b])\n",
        "print('d = ', d, '', sep='\\n')\n",
        "\n",
        "e = np.hstack([a]*5)\n",
        "print('e = ', e, sep='\\n')"
      ]
    },
    {
      "cell_type": "markdown",
      "metadata": {
        "id": "g2ouplpt5Kwi"
      },
      "source": [
        "# Задания #\n",
        "\n",
        "\n",
        "Далее представлено 15 заданий.\n",
        "* от 4 до 8 заданий -- 1 балл\n",
        "* от 9 до 13 заданий -- 2 балла\n",
        "* от 14 до 15 заданий -- 3 балла"
      ]
    },
    {
      "cell_type": "markdown",
      "metadata": {
        "id": "L08eVmlx5Kwi"
      },
      "source": [
        "### Задание 1 ###\n",
        "Напишите функцию __snake1(n,m)__, которая возвращает матрицу $n \\times m$, заполненную следующим образом (пример для $n=5$, $m=4$):\n",
        "```python\n",
        "    [[1,  2,  3,  4],\n",
        "    [8,   7,  6,  5],\n",
        "    [9,  10, 11, 12],\n",
        "    [16, 15, 14, 13],\n",
        "    [17, 18, 19, 20]]\n",
        " ```"
      ]
    },
    {
      "cell_type": "code",
      "execution_count": null,
      "metadata": {
        "id": "I55vxRZr5Kwi",
        "outputId": "562a01c8-a123-46b9-dd4e-101c44a9b9bf",
        "colab": {
          "base_uri": "https://localhost:8080/"
        }
      },
      "outputs": [
        {
          "output_type": "stream",
          "name": "stdout",
          "text": [
            "None\n"
          ]
        }
      ],
      "source": [
        "def snake1(n, m):\n",
        "    pass\n",
        "\n",
        "print(snake1(5,4))"
      ]
    },
    {
      "cell_type": "markdown",
      "metadata": {
        "id": "1-ZvOt2i5Kwj"
      },
      "source": [
        "### Задание 2 ###\n",
        "Напишите функцию __snake2(n)__, которая возвращает матрицу $n \\times n$, заполненную следующим образом\n",
        "Пример для $n=5$:\n",
        "```python\n",
        "    [[ 1,  2,  9, 10, 25],\n",
        "     [ 4,  3,  8, 11, 24],\n",
        "     [ 5,  6,  7, 12, 23],\n",
        "     [16, 15, 14, 13, 22],\n",
        "     [17, 18, 19, 20, 21]]\n",
        " ```\n",
        "\n",
        " Пример для $n=3$:\n",
        " ```python\n",
        "    [[1, 2, 9],\n",
        "     [4, 3, 8],\n",
        "     [5, 6, 7]]\n",
        " ```"
      ]
    },
    {
      "cell_type": "code",
      "execution_count": null,
      "metadata": {
        "id": "vu3biMS_5Kwj",
        "outputId": "a2f45298-3eee-4476-c776-92a461a737ab",
        "colab": {
          "base_uri": "https://localhost:8080/"
        }
      },
      "outputs": [
        {
          "output_type": "stream",
          "name": "stdout",
          "text": [
            "None\n"
          ]
        }
      ],
      "source": [
        "def snake2(n):\n",
        "    pass\n",
        "\n",
        "print(snake2(4))"
      ]
    },
    {
      "cell_type": "markdown",
      "metadata": {
        "id": "3zhatqv65Kwj"
      },
      "source": [
        "### Задание 3 ###\n",
        "Напишите функцию __snake3(n,m)__, которая возвращает матрицу $n \\times m$, заполненную следующим образом.\n",
        "\n",
        "Пример для $n=4$, $m=5$:\n",
        "\n",
        "```python\n",
        "    [[1,  2,  3,  4, 5],\n",
        "    [14, 15, 16, 17, 6],\n",
        "    [13, 20, 19, 18, 7],\n",
        "    [12, 11, 10,  9, 8]]\n",
        " ```\n",
        "\n",
        " Пример для $n=3$, $m=3$:\n",
        "\n",
        "```python\n",
        "    [[1, 2, 3,\n",
        "     [8, 9, 4],\n",
        "     [7, 6, 5]]\n",
        " ```"
      ]
    },
    {
      "cell_type": "code",
      "execution_count": null,
      "metadata": {
        "id": "GNVbHoBB5Kwj",
        "outputId": "b0b57d13-78f2-4835-b027-119d4ef72f8c",
        "colab": {
          "base_uri": "https://localhost:8080/"
        }
      },
      "outputs": [
        {
          "output_type": "stream",
          "name": "stdout",
          "text": [
            "None\n"
          ]
        }
      ],
      "source": [
        "def snake3(n, m):\n",
        "    pass\n",
        "\n",
        "print(snake3(4,5))"
      ]
    },
    {
      "cell_type": "markdown",
      "metadata": {
        "id": "xGazv7wV5Kwj"
      },
      "source": [
        "### Задание 4 ###\n",
        "Напишите функцию __paraboloid(n)__, которая возвращает матрицу размера $2n + 1 \\times 2n +1$,\n",
        "для которой значение в ячейке [i,j] равняется расстоянию от точки с координатами $(0,0)$ до точки с координатами $(\\frac{i-n}{n},\\frac{j-n}{n})$. Расстояние - это верщественное число.\n",
        "**Сделайте так, чтобы при печати выводилось только два занка после запятой.**"
      ]
    },
    {
      "cell_type": "code",
      "execution_count": null,
      "metadata": {
        "id": "K9Bg1JJQ5Kwj",
        "outputId": "ed16116a-6328-460b-e815-d7b4557d5c7f",
        "colab": {
          "base_uri": "https://localhost:8080/"
        }
      },
      "outputs": [
        {
          "output_type": "stream",
          "name": "stdout",
          "text": [
            "None\n"
          ]
        }
      ],
      "source": [
        "def paraboloid(n):\n",
        "    pass\n",
        "\n",
        "print(paraboloid(4))"
      ]
    },
    {
      "cell_type": "markdown",
      "metadata": {
        "id": "g0rHMzUi5Kwk"
      },
      "source": [
        "### Задание 5 ###\n",
        "Напишите функцию __chess_queen(n, m, i, j)__, которая возвращает матрицу размера $n \\times m$, заполненную 0 и 1 по следующему правилу:\n",
        "\n",
        "Предположим, мы имеем шахматную доску размером $n \\times m$ и в ячейке $(i,j)$ стоит ферзь. Клетки нумеруются с $0$ из левого верхнего угла.\n",
        "\n",
        "В клетку $(i,j)$ необходимо поставить 2. Необходимо поставить $1$ на все клетки, куда ферзь может ударить. В остальные клетки необходимо поставить $0$.\n",
        "\n",
        "Пример __chess_queen(3,4,2,2)__:\n",
        "```python\n",
        "    [[1, 0, 1, 0],\n",
        "     [0, 1, 1, 1],\n",
        "     [1, 1, 2, 1]]\n",
        "```"
      ]
    },
    {
      "cell_type": "code",
      "execution_count": null,
      "metadata": {
        "id": "Da0vVwM85Kwk",
        "outputId": "de8293dd-ac64-4eb9-ce62-6902597cb9fa",
        "colab": {
          "base_uri": "https://localhost:8080/"
        }
      },
      "outputs": [
        {
          "output_type": "stream",
          "name": "stdout",
          "text": [
            "None\n"
          ]
        }
      ],
      "source": [
        "def chess_queen(n,m,i,j):\n",
        "    pass\n",
        "\n",
        "print(chess_queen(3,4,2,2))"
      ]
    },
    {
      "cell_type": "markdown",
      "metadata": {
        "id": "Nq5NqPXf5Kwk"
      },
      "source": [
        "### Задание 6 ###\n",
        "\n",
        "Напишите функцию __chess_knight(n, m, i, j)__, которая возвращает матрицу размера $n \\times m$, заполненную целами числами следующим образом. На поле с координатами $i \\times j$ ставится шахматный конь. Значение в ячейке $a \\times b$ раняется __минимальному__ количеству ходов конем, которое надо совершить, чтобы из поля $i \\times j$ попасть в поле $a \\times b$.\n",
        "Если в поле поасть невозможно, то значение в соотвествующей ячейке должно быть равно $-1$.\n",
        "\n",
        "Пример  __chess_knight(3,3,0,0)__:\n",
        "```python\n",
        "    [[0,3,2],\n",
        "    [3,-1,1],\n",
        "    [2,1,4]]\n",
        "```"
      ]
    },
    {
      "cell_type": "code",
      "execution_count": null,
      "metadata": {
        "id": "CBUc0kzO5Kwk",
        "outputId": "f72598a5-f4da-48e9-b1cf-ad975b1366f1",
        "colab": {
          "base_uri": "https://localhost:8080/"
        }
      },
      "outputs": [
        {
          "output_type": "stream",
          "name": "stdout",
          "text": [
            "None\n"
          ]
        }
      ],
      "source": [
        "def chess_knight(n,m,i,j):\n",
        "    pass\n",
        "\n",
        "print(chess_knight(3,4,2,2))"
      ]
    },
    {
      "cell_type": "markdown",
      "metadata": {
        "id": "OLSPVZfB5Kwk"
      },
      "source": [
        "### Задание 7 ###\n",
        "Напишите функцию __generate(a,b,c)__, которая получает на вход три матрицы:\n",
        "\n",
        "Матрица __a__ -- произвольная матрица из $0$ и $1$ имеющая размер $n \\times m$\n",
        "\n",
        "Матрицы __b__ и __c__ -- произвольные матрицы имеющие __одинаковый размер__ $p \\times q$.\n",
        "\n",
        "Функция должна вернуть матрицу размера  $np \\times mq$, построенную по следующему правилу:\n",
        "\n",
        "Вместо $0$ матрицы __a__ подставляется матрица __b__, вместо $1$ матрицы __a__ подставляется матрица __с__.\n",
        "\n",
        "Пример:\n",
        "```python\n",
        "    a = np.array([[1,1,0],\n",
        "                  [0,1,1]])\n",
        "                  \n",
        "    b = np.array([[1,2],\n",
        "                  [3,4]])\n",
        "                  \n",
        "    c = np.array([[3,3],\n",
        "                  [3,3]])\n",
        "    \n",
        "    generate(a,b,c) ->\n",
        "    [[3,3,3,3,1,2]\n",
        "     [3,3,3,3,3,4]\n",
        "     [1,2,3,3,3,3]\n",
        "     [3,4,3,3,3,3]]\n",
        "```"
      ]
    },
    {
      "cell_type": "code",
      "execution_count": null,
      "metadata": {
        "id": "MnZdrM_Z5Kwl",
        "outputId": "3f12b6c5-75fe-4700-97ef-32ec3e9050ad",
        "colab": {
          "base_uri": "https://localhost:8080/",
          "height": 216
        }
      },
      "outputs": [
        {
          "output_type": "error",
          "ename": "NameError",
          "evalue": "name 'np' is not defined",
          "traceback": [
            "\u001b[0;31m---------------------------------------------------------------------------\u001b[0m",
            "\u001b[0;31mNameError\u001b[0m                                 Traceback (most recent call last)",
            "\u001b[0;32m<ipython-input-7-ffa7b123c471>\u001b[0m in \u001b[0;36m<cell line: 1>\u001b[0;34m()\u001b[0m\n\u001b[0;32m----> 1\u001b[0;31m a = np.array([[1,1,0],\n\u001b[0m\u001b[1;32m      2\u001b[0m               [0,1,1]])\n\u001b[1;32m      3\u001b[0m \u001b[0;34m\u001b[0m\u001b[0m\n\u001b[1;32m      4\u001b[0m b = np.array([[1,2],\n\u001b[1;32m      5\u001b[0m               [3,4]])\n",
            "\u001b[0;31mNameError\u001b[0m: name 'np' is not defined"
          ]
        }
      ],
      "source": [
        "a = np.array([[1,1,0],\n",
        "              [0,1,1]])\n",
        "\n",
        "b = np.array([[1,2],\n",
        "              [3,4]])\n",
        "\n",
        "c = np.array([[3,3],\n",
        "              [3,3]])\n",
        "\n",
        "def generate(a,b,c):\n",
        "    pass\n",
        "\n",
        "print(generate(a,b,c))"
      ]
    },
    {
      "cell_type": "markdown",
      "metadata": {
        "id": "bqrXyZsm5Kwl"
      },
      "source": [
        "### Задание 8 ###\n",
        "Реализуйте (без использования встроенных функций numpy) функцию __is_symmetric(A)__, которая проверят является ли матрица A симметричной, то A[i,j] == A[j,i] для любых [i,j]\n",
        "\n",
        "Примеры:\n",
        "```python\n",
        "A = [[1,2,3],\n",
        "     [2,5,4],\n",
        "     [3,4,-1]\n",
        "    ]\n",
        "\n",
        "is_symmetric(A) == True\n",
        "\n",
        "B = [[1,2,3],\n",
        "     [2,5,4],\n",
        "     [20,4,-1]\n",
        "    ]\n",
        "\n",
        "is_symmetric(B) == False\n",
        "\n",
        "C = [[1,2,3],\n",
        "     [2,5,4]\n",
        "    ]\n",
        "\n",
        "is_symmetric(C) == False\n",
        "```"
      ]
    },
    {
      "cell_type": "code",
      "execution_count": null,
      "metadata": {
        "id": "m--5Rnqs5Kwl"
      },
      "outputs": [],
      "source": [
        "def is_symmetric(A):\n",
        "    pass"
      ]
    },
    {
      "cell_type": "markdown",
      "metadata": {
        "id": "Zk86BjPA5Kwl"
      },
      "source": [
        "### Задание 9 ###\n",
        "Реализуйте (без использования встроенных функций numpy) функцию __transpose(A)__, возвращает транспонированную матрицу A"
      ]
    },
    {
      "cell_type": "code",
      "execution_count": null,
      "metadata": {
        "id": "lfRZ6Vuw5Kwl"
      },
      "outputs": [],
      "source": [
        "def transpose(A):\n",
        "    pass"
      ]
    },
    {
      "cell_type": "markdown",
      "metadata": {
        "id": "7yD6DAKW5Kwl"
      },
      "source": [
        "### Задание 10 ###\n",
        "Напишите (без использования встроенных функций numpy) функцию __mult(A,B)__, возвращает произведение матриц A и B. Если матрицы умножить нельзя, то можно возвращать ошибку.\n",
        "\n",
        "Визуализация умножения матриц: http://matrixmultiplication.xyz/"
      ]
    },
    {
      "cell_type": "code",
      "execution_count": null,
      "metadata": {
        "id": "ApwyJWi35Kwm"
      },
      "outputs": [],
      "source": [
        "def mult(A,B):\n",
        "    pass"
      ]
    },
    {
      "cell_type": "markdown",
      "metadata": {
        "id": "Lgp1dk715Kwm"
      },
      "source": [
        "В задачах 11,12,13,14,15 __приветствуется__ использование встроенных функций numpy.\n",
        "\n",
        "Постарайтесь сделать и компактный элегантный код."
      ]
    },
    {
      "cell_type": "markdown",
      "metadata": {
        "id": "VmDTTp9t5Kwm"
      },
      "source": [
        "### Задание 11 ###\n",
        "\n",
        "Дана матрица $A$ размера $n \\times m$ (n - строк и m - столбцов). Сформируйте две матрицы $B$ и $C$. Первая размера $n \\times 1$, каждый элемент которой равен __максимальному__ в соотвествующей строке $A$. Вторая матрица размера $1 \\times m$, каждый элемент которой равен __минимальному__ в соотвествующем столбце $A$.\n",
        "\n",
        "Например, если\n",
        "```python\n",
        "А = [[1,3],\n",
        "    [4,1],\n",
        "    [5,6]]\n",
        "```\n",
        "то\n",
        "```python\n",
        "B = [[3],\n",
        "    [4],\n",
        "    [6]]\n",
        "\n",
        "C = [[1,1]]\n",
        "```\n"
      ]
    },
    {
      "cell_type": "code",
      "execution_count": null,
      "metadata": {
        "id": "rislyGqn5Kwm"
      },
      "outputs": [],
      "source": []
    },
    {
      "cell_type": "markdown",
      "metadata": {
        "id": "ildsBmFm5Kwm"
      },
      "source": [
        "### Задание 12 ###\n",
        "\n",
        "Дана матрица $A$ размера $n \\times m$ (n - строк и m - столбцов). Сформируйте две матрицы $B$ и $C$. Первая размера $n \\times 1$, каждый элемент которой равен __сумме__ в соотвествующей строке $A$. Вторая матрица размера $1 \\times m$, каждый элемент которой равен __произведению__ в соотвествующем столбце $A$.\n",
        "\n",
        "Например, если\n",
        "```python\n",
        "А = [[1,3],\n",
        "    [4,1],\n",
        "    [5,6]]\n",
        "```\n",
        "то\n",
        "```python\n",
        "B = [[4],\n",
        "    [5],\n",
        "    [11]]\n",
        "\n",
        "C = [[20,18]]\n",
        "```"
      ]
    },
    {
      "cell_type": "markdown",
      "metadata": {
        "id": "1dpuPpPH5Kwn"
      },
      "source": [
        "### Задание 13 ###\n",
        "\n",
        "Дана матрица $А$. Необходимо ее нормировать, т.е. поделить каждый элемент на сумму всех элементов матрицы"
      ]
    },
    {
      "cell_type": "code",
      "execution_count": null,
      "metadata": {
        "id": "TgxohExw5Kwn"
      },
      "outputs": [],
      "source": []
    },
    {
      "cell_type": "markdown",
      "metadata": {
        "id": "ubTBGgrq5Kwn"
      },
      "source": [
        "### Задание 14 ###\n",
        "Дана матрица $А$. Необходимо нормировать каждый ее столбец, т.е. поделить каждый элемент на столбца на сумму элементов столбца."
      ]
    },
    {
      "cell_type": "code",
      "execution_count": null,
      "metadata": {
        "id": "X5voEpxz5Kwn"
      },
      "outputs": [],
      "source": []
    },
    {
      "cell_type": "markdown",
      "metadata": {
        "id": "T3Wq1pwt5Kwn"
      },
      "source": [
        "### Задание 15 ###\n",
        "Дана матрица $A$. Необходимо столбцы с четными индексами умножить на 5, с нечетными - поделить на -5"
      ]
    },
    {
      "cell_type": "code",
      "execution_count": null,
      "metadata": {
        "id": "ZZr_Zya95Kwn"
      },
      "outputs": [],
      "source": []
    }
  ],
  "metadata": {
    "kernelspec": {
      "display_name": "Python 3",
      "language": "python",
      "name": "python3"
    },
    "language_info": {
      "codemirror_mode": {
        "name": "ipython",
        "version": 3
      },
      "file_extension": ".py",
      "mimetype": "text/x-python",
      "name": "python",
      "nbconvert_exporter": "python",
      "pygments_lexer": "ipython3",
      "version": "3.8.5"
    },
    "colab": {
      "provenance": []
    }
  },
  "nbformat": 4,
  "nbformat_minor": 0
}